{
 "cells": [
  {
   "cell_type": "markdown",
   "id": "97ae6129-2e7e-4cde-a3ac-5e1ce04acb8a",
   "metadata": {},
   "source": [
    "### `Q3:` Write a program to Check if a given string is binary string of or not. \n",
    "\n",
    "A string is said to be binary if it's consists of only two unique characters.\n",
    "\n",
    "Take string input from user. \n",
    "\n",
    "```\n",
    "Input: str = \"01010101010\"\n",
    "Output: Yes\n",
    "\n",
    "Input: str = \"1222211\"\n",
    "Output: Yes\n",
    "\n",
    "Input: str = \"Campusx\"\n",
    "Output: No\n",
    "```\n",
    "\n"
   ]
  },
  {
   "cell_type": "code",
   "execution_count": 10,
   "id": "68e45774-113d-4a65-be9c-192560b84a0a",
   "metadata": {},
   "outputs": [
    {
     "name": "stdin",
     "output_type": "stream",
     "text": [
      "Enter string 1872\n"
     ]
    },
    {
     "name": "stdout",
     "output_type": "stream",
     "text": [
      "string is non binary\n"
     ]
    }
   ],
   "source": [
    "str1=(input(\"Enter string\"))\n",
    "s1=set(str1)\n",
    "s2={'0','1'}\n",
    "if s1==s2:\n",
    "        print(\"string is binary\")\n",
    "else:\n",
    "        print(\"string is non binary\")"
   ]
  },
  {
   "cell_type": "markdown",
   "id": "98df55c8-3c22-400d-8bce-8bbe03d37bcc",
   "metadata": {},
   "source": [
    "### `Q4`: find union of n arrays.\n",
    "\n",
    "**Example 1:**\n",
    "\n",
    "Input:\n",
    "```bash\n",
    "[[1, 2, 2, 4, 3, 6],\n",
    " [5, 1, 3, 4],\n",
    " [9, 5, 7, 1],\n",
    " [2, 4, 1, 3]]\n",
    "```\n",
    "\n",
    "Output:\n",
    "\n",
    "```bash\n",
    "[1, 2, 3, 4, 5, 6, 7, 9]\n"
   ]
  },
  {
   "cell_type": "code",
   "execution_count": 1,
   "id": "ad1f09cf-8100-4c97-b6df-4d0a7e9cf86c",
   "metadata": {},
   "outputs": [
    {
     "name": "stdout",
     "output_type": "stream",
     "text": [
      "{1, 2, 3, 4, 5, 6, 7, 9}\n"
     ]
    }
   ],
   "source": [
    "li=[[1, 2, 2, 4, 3, 6],[5, 1, 3, 4],[9, 5, 7, 1],[2, 4, 1, 3]]\n",
    "list1 = li[0] \n",
    "list2 = li[1] \n",
    "list3 = li[2] \n",
    "list4 = li[3] \n",
    "\n",
    "s1=set(list1)\n",
    "s2=set(list2)\n",
    "s3=set(list3)\n",
    "s4=set(list4)\n",
    "\n",
    "test1=s1.union(s2)     \n",
    "test2=test1.union(s3)\n",
    "test3=test2.union(s4)\n",
    "\n",
    "print(test3)"
   ]
  },
  {
   "cell_type": "markdown",
   "id": "be16e30e-206a-4d58-8967-7d2a83637872",
   "metadata": {},
   "source": [
    "### `Q5`: Intersection of two lists. Intersection of two list means we need to take all those elements which are common to both of the initial lists and store them into another list. Only use using **list-comprehension**.\n",
    "\n",
    "**Example 1:**\n",
    "\n",
    "Input:\n",
    "```bash\n",
    "lst1 = {15, 9, 10, 56, 23, 78, 5, 4, 9}\n",
    "lst2 = {9, 4, 5, 36, 47, 26, 10, 45, 87}\n",
    "```\n",
    "\n",
    "Output:\n",
    "```bash\n",
    "[9, 10, 4, 5]\n",
    "```\n",
    "\n",
    "**Example 2:**\n",
    "\n",
    "Input:\n",
    "```bash\n",
    "lst1 = {4, 9, 1, 17, 11, 26, 28, 54, 69}\n",
    "lst2 = {9, 9, 74, 21, 45, 11, 63, 28, 26}\n",
    "```\n",
    "\n",
    "Output:\n",
    "```bash\n",
    "[9, 11, 26, 28]\n",
    "```"
   ]
  },
  {
   "cell_type": "code",
   "execution_count": 4,
   "id": "c46aedb5-d79c-4530-95dd-6467b88af867",
   "metadata": {},
   "outputs": [
    {
     "name": "stdout",
     "output_type": "stream",
     "text": [
      "[4, 5, 9, 10]\n"
     ]
    }
   ],
   "source": [
    "def intersection(li,l2):\n",
    "    li3 = [x for x in li1 if x in li2]\n",
    "    return li3\n",
    "\n",
    "li1 = {15, 9, 10, 56, 23, 78, 5, 4, 9}\n",
    "li2 = {9, 4, 5, 36, 47, 26, 10, 45, 87}\n",
    "print(intersection(li1,li2))\n",
    "\n"
   ]
  },
  {
   "cell_type": "code",
   "execution_count": null,
   "id": "dcff8abc-3ab7-4861-b001-ad2b2c245ff8",
   "metadata": {},
   "outputs": [],
   "source": []
  },
  {
   "cell_type": "code",
   "execution_count": null,
   "id": "c8ee2215-535b-4f43-9728-905e2a6c5ec8",
   "metadata": {},
   "outputs": [],
   "source": []
  }
 ],
 "metadata": {
  "kernelspec": {
   "display_name": "Python 3 (ipykernel)",
   "language": "python",
   "name": "python3"
  },
  "language_info": {
   "codemirror_mode": {
    "name": "ipython",
    "version": 3
   },
   "file_extension": ".py",
   "mimetype": "text/x-python",
   "name": "python",
   "nbconvert_exporter": "python",
   "pygments_lexer": "ipython3",
   "version": "3.11.7"
  }
 },
 "nbformat": 4,
 "nbformat_minor": 5
}
